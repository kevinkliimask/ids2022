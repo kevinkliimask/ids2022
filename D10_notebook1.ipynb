{
 "cells": [
  {
   "cell_type": "markdown",
   "metadata": {},
   "source": [
    "# Project D10: KAGGLE - Movie Ratings\n",
    "\n",
    "Authors:\n",
    "- Kevin Kliimask\n",
    "- Jens Jäger\n",
    "- Taavi Eistre\n",
    "\n",
    "In this notebook we are going to analyze the dataset and train regression models."
   ]
  },
  {
   "cell_type": "markdown",
   "metadata": {},
   "source": [
    "## Importing the data\n",
    "\n",
    "We will start off with importing all the necessary packages and the data.\n",
    "After looking at the data manually, we saw that 6 rows were 'broken' so to say with a lot of misaligned columns, so we decided to skip them.\n",
    "We will be using the selected columns from the report."
   ]
  },
  {
   "cell_type": "code",
   "execution_count": 1,
   "metadata": {},
   "outputs": [],
   "source": [
    "import pandas as pd\n",
    "import matplotlib.pyplot as plt\n",
    "from sklearn.preprocessing import MultiLabelBinarizer\n",
    "from sklearn.model_selection import train_test_split\n",
    "from sklearn.linear_model import LinearRegression, Ridge, Lasso\n",
    "import math\n",
    "import ast\n",
    "%matplotlib inline\n",
    "\n",
    "data = pd.read_csv('movies_metadata.csv', skiprows=[19730, 19731, 29503, 29504, 35587, 35588],\n",
    "                   usecols=['original_title', 'original_language', 'genres', 'production_companies',\n",
    "                            'production_countries', 'runtime', 'revenue', 'release_date', 'vote_average'])"
   ]
  },
  {
   "cell_type": "markdown",
   "metadata": {},
   "source": [
    "## Preprocessing the data\n",
    "\n",
    "First off we'll remove all the duplicate rows (movies)."
   ]
  },
  {
   "cell_type": "code",
   "execution_count": 2,
   "metadata": {},
   "outputs": [
    {
     "name": "stdout",
     "output_type": "stream",
     "text": [
      "The number of movies before removing the duplicates: 45460\n",
      "The number of movies after removing the duplicates: 45430\n"
     ]
    },
    {
     "data": {
      "text/html": [
       "<div>\n",
       "<style scoped>\n",
       "    .dataframe tbody tr th:only-of-type {\n",
       "        vertical-align: middle;\n",
       "    }\n",
       "\n",
       "    .dataframe tbody tr th {\n",
       "        vertical-align: top;\n",
       "    }\n",
       "\n",
       "    .dataframe thead th {\n",
       "        text-align: right;\n",
       "    }\n",
       "</style>\n",
       "<table border=\"1\" class=\"dataframe\">\n",
       "  <thead>\n",
       "    <tr style=\"text-align: right;\">\n",
       "      <th></th>\n",
       "      <th>genres</th>\n",
       "      <th>original_language</th>\n",
       "      <th>original_title</th>\n",
       "      <th>production_companies</th>\n",
       "      <th>production_countries</th>\n",
       "      <th>release_date</th>\n",
       "      <th>revenue</th>\n",
       "      <th>runtime</th>\n",
       "      <th>vote_average</th>\n",
       "    </tr>\n",
       "  </thead>\n",
       "  <tbody>\n",
       "    <tr>\n",
       "      <th>0</th>\n",
       "      <td>[{'id': 16, 'name': 'Animation'}, {'id': 35, '...</td>\n",
       "      <td>en</td>\n",
       "      <td>Toy Story</td>\n",
       "      <td>[{'name': 'Pixar Animation Studios', 'id': 3}]</td>\n",
       "      <td>[{'iso_3166_1': 'US', 'name': 'United States o...</td>\n",
       "      <td>1995-10-30</td>\n",
       "      <td>373554033</td>\n",
       "      <td>81.0</td>\n",
       "      <td>7.7</td>\n",
       "    </tr>\n",
       "    <tr>\n",
       "      <th>1</th>\n",
       "      <td>[{'id': 12, 'name': 'Adventure'}, {'id': 14, '...</td>\n",
       "      <td>en</td>\n",
       "      <td>Jumanji</td>\n",
       "      <td>[{'name': 'TriStar Pictures', 'id': 559}, {'na...</td>\n",
       "      <td>[{'iso_3166_1': 'US', 'name': 'United States o...</td>\n",
       "      <td>1995-12-15</td>\n",
       "      <td>262797249</td>\n",
       "      <td>104.0</td>\n",
       "      <td>6.9</td>\n",
       "    </tr>\n",
       "    <tr>\n",
       "      <th>2</th>\n",
       "      <td>[{'id': 10749, 'name': 'Romance'}, {'id': 35, ...</td>\n",
       "      <td>en</td>\n",
       "      <td>Grumpier Old Men</td>\n",
       "      <td>[{'name': 'Warner Bros.', 'id': 6194}, {'name'...</td>\n",
       "      <td>[{'iso_3166_1': 'US', 'name': 'United States o...</td>\n",
       "      <td>1995-12-22</td>\n",
       "      <td>0</td>\n",
       "      <td>101.0</td>\n",
       "      <td>6.5</td>\n",
       "    </tr>\n",
       "    <tr>\n",
       "      <th>3</th>\n",
       "      <td>[{'id': 35, 'name': 'Comedy'}, {'id': 18, 'nam...</td>\n",
       "      <td>en</td>\n",
       "      <td>Waiting to Exhale</td>\n",
       "      <td>[{'name': 'Twentieth Century Fox Film Corporat...</td>\n",
       "      <td>[{'iso_3166_1': 'US', 'name': 'United States o...</td>\n",
       "      <td>1995-12-22</td>\n",
       "      <td>81452156</td>\n",
       "      <td>127.0</td>\n",
       "      <td>6.1</td>\n",
       "    </tr>\n",
       "    <tr>\n",
       "      <th>4</th>\n",
       "      <td>[{'id': 35, 'name': 'Comedy'}]</td>\n",
       "      <td>en</td>\n",
       "      <td>Father of the Bride Part II</td>\n",
       "      <td>[{'name': 'Sandollar Productions', 'id': 5842}...</td>\n",
       "      <td>[{'iso_3166_1': 'US', 'name': 'United States o...</td>\n",
       "      <td>1995-02-10</td>\n",
       "      <td>76578911</td>\n",
       "      <td>106.0</td>\n",
       "      <td>5.7</td>\n",
       "    </tr>\n",
       "  </tbody>\n",
       "</table>\n",
       "</div>"
      ],
      "text/plain": [
       "                                              genres original_language  \\\n",
       "0  [{'id': 16, 'name': 'Animation'}, {'id': 35, '...                en   \n",
       "1  [{'id': 12, 'name': 'Adventure'}, {'id': 14, '...                en   \n",
       "2  [{'id': 10749, 'name': 'Romance'}, {'id': 35, ...                en   \n",
       "3  [{'id': 35, 'name': 'Comedy'}, {'id': 18, 'nam...                en   \n",
       "4                     [{'id': 35, 'name': 'Comedy'}]                en   \n",
       "\n",
       "                original_title  \\\n",
       "0                    Toy Story   \n",
       "1                      Jumanji   \n",
       "2             Grumpier Old Men   \n",
       "3            Waiting to Exhale   \n",
       "4  Father of the Bride Part II   \n",
       "\n",
       "                                production_companies  \\\n",
       "0     [{'name': 'Pixar Animation Studios', 'id': 3}]   \n",
       "1  [{'name': 'TriStar Pictures', 'id': 559}, {'na...   \n",
       "2  [{'name': 'Warner Bros.', 'id': 6194}, {'name'...   \n",
       "3  [{'name': 'Twentieth Century Fox Film Corporat...   \n",
       "4  [{'name': 'Sandollar Productions', 'id': 5842}...   \n",
       "\n",
       "                                production_countries release_date    revenue  \\\n",
       "0  [{'iso_3166_1': 'US', 'name': 'United States o...   1995-10-30  373554033   \n",
       "1  [{'iso_3166_1': 'US', 'name': 'United States o...   1995-12-15  262797249   \n",
       "2  [{'iso_3166_1': 'US', 'name': 'United States o...   1995-12-22          0   \n",
       "3  [{'iso_3166_1': 'US', 'name': 'United States o...   1995-12-22   81452156   \n",
       "4  [{'iso_3166_1': 'US', 'name': 'United States o...   1995-02-10   76578911   \n",
       "\n",
       "   runtime  vote_average  \n",
       "0     81.0           7.7  \n",
       "1    104.0           6.9  \n",
       "2    101.0           6.5  \n",
       "3    127.0           6.1  \n",
       "4    106.0           5.7  "
      ]
     },
     "execution_count": 2,
     "metadata": {},
     "output_type": "execute_result"
    }
   ],
   "source": [
    "print(f'The number of movies before removing the duplicates: {len(data)}')\n",
    "data = data.drop_duplicates(ignore_index=True)\n",
    "\n",
    "print(f'The number of movies after removing the duplicates: {len(data)}')\n",
    "\n",
    "data.head()"
   ]
  },
  {
   "cell_type": "markdown",
   "metadata": {},
   "source": [
    "Next off we will be converting the **JSON** formats of columns **'genres'**, **'production_companies'** and **'production_countries'** to a list format using the help of `ast.literal_eval()`,\n",
    "which helps to parse the columns' objects into the desired type."
   ]
  },
  {
   "cell_type": "code",
   "execution_count": 3,
   "metadata": {},
   "outputs": [
    {
     "data": {
      "text/html": [
       "<div>\n",
       "<style scoped>\n",
       "    .dataframe tbody tr th:only-of-type {\n",
       "        vertical-align: middle;\n",
       "    }\n",
       "\n",
       "    .dataframe tbody tr th {\n",
       "        vertical-align: top;\n",
       "    }\n",
       "\n",
       "    .dataframe thead th {\n",
       "        text-align: right;\n",
       "    }\n",
       "</style>\n",
       "<table border=\"1\" class=\"dataframe\">\n",
       "  <thead>\n",
       "    <tr style=\"text-align: right;\">\n",
       "      <th></th>\n",
       "      <th>genres</th>\n",
       "      <th>original_language</th>\n",
       "      <th>original_title</th>\n",
       "      <th>production_companies</th>\n",
       "      <th>production_countries</th>\n",
       "      <th>release_date</th>\n",
       "      <th>revenue</th>\n",
       "      <th>runtime</th>\n",
       "      <th>vote_average</th>\n",
       "    </tr>\n",
       "  </thead>\n",
       "  <tbody>\n",
       "    <tr>\n",
       "      <th>0</th>\n",
       "      <td>[Animation, Comedy, Family]</td>\n",
       "      <td>en</td>\n",
       "      <td>Toy Story</td>\n",
       "      <td>[Pixar Animation Studios]</td>\n",
       "      <td>[United States of America]</td>\n",
       "      <td>1995-10-30</td>\n",
       "      <td>373554033</td>\n",
       "      <td>81.0</td>\n",
       "      <td>7.7</td>\n",
       "    </tr>\n",
       "    <tr>\n",
       "      <th>1</th>\n",
       "      <td>[Adventure, Fantasy, Family]</td>\n",
       "      <td>en</td>\n",
       "      <td>Jumanji</td>\n",
       "      <td>[TriStar Pictures, Teitler Film, Interscope Co...</td>\n",
       "      <td>[United States of America]</td>\n",
       "      <td>1995-12-15</td>\n",
       "      <td>262797249</td>\n",
       "      <td>104.0</td>\n",
       "      <td>6.9</td>\n",
       "    </tr>\n",
       "    <tr>\n",
       "      <th>2</th>\n",
       "      <td>[Romance, Comedy]</td>\n",
       "      <td>en</td>\n",
       "      <td>Grumpier Old Men</td>\n",
       "      <td>[Warner Bros., Lancaster Gate]</td>\n",
       "      <td>[United States of America]</td>\n",
       "      <td>1995-12-22</td>\n",
       "      <td>0</td>\n",
       "      <td>101.0</td>\n",
       "      <td>6.5</td>\n",
       "    </tr>\n",
       "    <tr>\n",
       "      <th>3</th>\n",
       "      <td>[Comedy, Drama, Romance]</td>\n",
       "      <td>en</td>\n",
       "      <td>Waiting to Exhale</td>\n",
       "      <td>[Twentieth Century Fox Film Corporation]</td>\n",
       "      <td>[United States of America]</td>\n",
       "      <td>1995-12-22</td>\n",
       "      <td>81452156</td>\n",
       "      <td>127.0</td>\n",
       "      <td>6.1</td>\n",
       "    </tr>\n",
       "    <tr>\n",
       "      <th>4</th>\n",
       "      <td>[Comedy]</td>\n",
       "      <td>en</td>\n",
       "      <td>Father of the Bride Part II</td>\n",
       "      <td>[Sandollar Productions, Touchstone Pictures]</td>\n",
       "      <td>[United States of America]</td>\n",
       "      <td>1995-02-10</td>\n",
       "      <td>76578911</td>\n",
       "      <td>106.0</td>\n",
       "      <td>5.7</td>\n",
       "    </tr>\n",
       "  </tbody>\n",
       "</table>\n",
       "</div>"
      ],
      "text/plain": [
       "                         genres original_language  \\\n",
       "0   [Animation, Comedy, Family]                en   \n",
       "1  [Adventure, Fantasy, Family]                en   \n",
       "2             [Romance, Comedy]                en   \n",
       "3      [Comedy, Drama, Romance]                en   \n",
       "4                      [Comedy]                en   \n",
       "\n",
       "                original_title  \\\n",
       "0                    Toy Story   \n",
       "1                      Jumanji   \n",
       "2             Grumpier Old Men   \n",
       "3            Waiting to Exhale   \n",
       "4  Father of the Bride Part II   \n",
       "\n",
       "                                production_companies  \\\n",
       "0                          [Pixar Animation Studios]   \n",
       "1  [TriStar Pictures, Teitler Film, Interscope Co...   \n",
       "2                     [Warner Bros., Lancaster Gate]   \n",
       "3           [Twentieth Century Fox Film Corporation]   \n",
       "4       [Sandollar Productions, Touchstone Pictures]   \n",
       "\n",
       "         production_countries release_date    revenue  runtime  vote_average  \n",
       "0  [United States of America]   1995-10-30  373554033     81.0           7.7  \n",
       "1  [United States of America]   1995-12-15  262797249    104.0           6.9  \n",
       "2  [United States of America]   1995-12-22          0    101.0           6.5  \n",
       "3  [United States of America]   1995-12-22   81452156    127.0           6.1  \n",
       "4  [United States of America]   1995-02-10   76578911    106.0           5.7  "
      ]
     },
     "execution_count": 3,
     "metadata": {},
     "output_type": "execute_result"
    }
   ],
   "source": [
    "data['genres'] = data['genres'].apply(lambda genres_list: [genres['name'] for genres in ast.literal_eval(genres_list)])\n",
    "\n",
    "data['production_companies'] = data['production_companies'].apply(lambda companies_list: [companies['name'] for companies in ast.literal_eval(companies_list)])\n",
    "\n",
    "data['production_countries'] = data['production_countries'].apply(lambda countries_list: [countries['name'] for countries in ast.literal_eval(countries_list)])\n",
    "\n",
    "data.head()"
   ]
  },
  {
   "cell_type": "markdown",
   "metadata": {},
   "source": [
    "Next we will remove all the movies that have:\n",
    "- No genres\n",
    "- No production countries\n",
    "- No production companies\n",
    "- 0 runtime\n",
    "- 0 vote_average\n",
    "- NaN values"
   ]
  },
  {
   "cell_type": "code",
   "execution_count": 4,
   "metadata": {},
   "outputs": [
    {
     "name": "stdout",
     "output_type": "stream",
     "text": [
      "The number of movies before removing all of the mentioned movies above: 45430\n",
      "The number of movies after removing all of the mentioned movies above: 31061\n"
     ]
    }
   ],
   "source": [
    "print(f'The number of movies before removing all of the mentioned movies above: {len(data)}')\n",
    "\n",
    "data = data.dropna()\n",
    "data = data[(data.runtime > 0) & (data.vote_average > 0) & (data.genres.str.len() > 0) & (data.production_companies.str.len() > 0) & (data.production_countries.str.len() > 0)]\n",
    "data = data.reset_index(drop=True)\n",
    "\n",
    "print(f'The number of movies after removing all of the mentioned movies above: {len(data)}')"
   ]
  },
  {
   "cell_type": "markdown",
   "metadata": {},
   "source": [
    "Finding the **total number** and **frequency** of genres, companies and countries."
   ]
  },
  {
   "cell_type": "code",
   "execution_count": 5,
   "metadata": {},
   "outputs": [],
   "source": [
    "genres_dict = {}\n",
    "companies_dict = {}\n",
    "countries_dict = {}\n",
    "\n",
    "for index, row in data.iterrows():\n",
    "    for genre in row['genres']:\n",
    "        genres_dict[genre] = genres_dict.get(genre, 0) + 1\n",
    "\n",
    "    for company in row['production_companies']:\n",
    "        companies_dict[company] = companies_dict.get(company, 0) + 1\n",
    "\n",
    "    for country in row['production_countries']:\n",
    "        countries_dict[country] = countries_dict.get(country, 0) + 1"
   ]
  },
  {
   "cell_type": "code",
   "execution_count": 6,
   "metadata": {},
   "outputs": [
    {
     "name": "stdout",
     "output_type": "stream",
     "text": [
      "The number of genres: 20\n",
      "The number of production companies: 22390\n",
      "The number of production countries: 151\n"
     ]
    }
   ],
   "source": [
    "print(f'The number of genres: {len(genres_dict)}')\n",
    "print(f'The number of production companies: {len(companies_dict)}')\n",
    "print(f'The number of production countries: {len(countries_dict)}')"
   ]
  },
  {
   "cell_type": "markdown",
   "metadata": {},
   "source": [
    "After seeing that there are **too many** production companies, we decided not to use them on the model."
   ]
  },
  {
   "cell_type": "markdown",
   "metadata": {},
   "source": [
    "## Exploring our data\n",
    "\n",
    "Now that we have cleaned the data, let's have a look at what interesting we can find from what remains."
   ]
  },
  {
   "cell_type": "code",
   "execution_count": 7,
   "metadata": {},
   "outputs": [
    {
     "data": {
      "text/html": [
       "<div>\n",
       "<style scoped>\n",
       "    .dataframe tbody tr th:only-of-type {\n",
       "        vertical-align: middle;\n",
       "    }\n",
       "\n",
       "    .dataframe tbody tr th {\n",
       "        vertical-align: top;\n",
       "    }\n",
       "\n",
       "    .dataframe thead th {\n",
       "        text-align: right;\n",
       "    }\n",
       "</style>\n",
       "<table border=\"1\" class=\"dataframe\">\n",
       "  <thead>\n",
       "    <tr style=\"text-align: right;\">\n",
       "      <th></th>\n",
       "      <th>genres</th>\n",
       "      <th>original_language</th>\n",
       "      <th>original_title</th>\n",
       "      <th>production_companies</th>\n",
       "      <th>production_countries</th>\n",
       "      <th>release_date</th>\n",
       "      <th>revenue</th>\n",
       "      <th>runtime</th>\n",
       "      <th>vote_average</th>\n",
       "    </tr>\n",
       "  </thead>\n",
       "  <tbody>\n",
       "    <tr>\n",
       "      <th>0</th>\n",
       "      <td>[Animation, Comedy, Family]</td>\n",
       "      <td>en</td>\n",
       "      <td>Toy Story</td>\n",
       "      <td>[Pixar Animation Studios]</td>\n",
       "      <td>[United States of America]</td>\n",
       "      <td>1995-10-30</td>\n",
       "      <td>373554033</td>\n",
       "      <td>81.0</td>\n",
       "      <td>7.7</td>\n",
       "    </tr>\n",
       "    <tr>\n",
       "      <th>1</th>\n",
       "      <td>[Adventure, Fantasy, Family]</td>\n",
       "      <td>en</td>\n",
       "      <td>Jumanji</td>\n",
       "      <td>[TriStar Pictures, Teitler Film, Interscope Co...</td>\n",
       "      <td>[United States of America]</td>\n",
       "      <td>1995-12-15</td>\n",
       "      <td>262797249</td>\n",
       "      <td>104.0</td>\n",
       "      <td>6.9</td>\n",
       "    </tr>\n",
       "    <tr>\n",
       "      <th>2</th>\n",
       "      <td>[Romance, Comedy]</td>\n",
       "      <td>en</td>\n",
       "      <td>Grumpier Old Men</td>\n",
       "      <td>[Warner Bros., Lancaster Gate]</td>\n",
       "      <td>[United States of America]</td>\n",
       "      <td>1995-12-22</td>\n",
       "      <td>0</td>\n",
       "      <td>101.0</td>\n",
       "      <td>6.5</td>\n",
       "    </tr>\n",
       "    <tr>\n",
       "      <th>3</th>\n",
       "      <td>[Comedy, Drama, Romance]</td>\n",
       "      <td>en</td>\n",
       "      <td>Waiting to Exhale</td>\n",
       "      <td>[Twentieth Century Fox Film Corporation]</td>\n",
       "      <td>[United States of America]</td>\n",
       "      <td>1995-12-22</td>\n",
       "      <td>81452156</td>\n",
       "      <td>127.0</td>\n",
       "      <td>6.1</td>\n",
       "    </tr>\n",
       "    <tr>\n",
       "      <th>4</th>\n",
       "      <td>[Comedy]</td>\n",
       "      <td>en</td>\n",
       "      <td>Father of the Bride Part II</td>\n",
       "      <td>[Sandollar Productions, Touchstone Pictures]</td>\n",
       "      <td>[United States of America]</td>\n",
       "      <td>1995-02-10</td>\n",
       "      <td>76578911</td>\n",
       "      <td>106.0</td>\n",
       "      <td>5.7</td>\n",
       "    </tr>\n",
       "  </tbody>\n",
       "</table>\n",
       "</div>"
      ],
      "text/plain": [
       "                         genres original_language  \\\n",
       "0   [Animation, Comedy, Family]                en   \n",
       "1  [Adventure, Fantasy, Family]                en   \n",
       "2             [Romance, Comedy]                en   \n",
       "3      [Comedy, Drama, Romance]                en   \n",
       "4                      [Comedy]                en   \n",
       "\n",
       "                original_title  \\\n",
       "0                    Toy Story   \n",
       "1                      Jumanji   \n",
       "2             Grumpier Old Men   \n",
       "3            Waiting to Exhale   \n",
       "4  Father of the Bride Part II   \n",
       "\n",
       "                                production_companies  \\\n",
       "0                          [Pixar Animation Studios]   \n",
       "1  [TriStar Pictures, Teitler Film, Interscope Co...   \n",
       "2                     [Warner Bros., Lancaster Gate]   \n",
       "3           [Twentieth Century Fox Film Corporation]   \n",
       "4       [Sandollar Productions, Touchstone Pictures]   \n",
       "\n",
       "         production_countries release_date    revenue  runtime  vote_average  \n",
       "0  [United States of America]   1995-10-30  373554033     81.0           7.7  \n",
       "1  [United States of America]   1995-12-15  262797249    104.0           6.9  \n",
       "2  [United States of America]   1995-12-22          0    101.0           6.5  \n",
       "3  [United States of America]   1995-12-22   81452156    127.0           6.1  \n",
       "4  [United States of America]   1995-02-10   76578911    106.0           5.7  "
      ]
     },
     "execution_count": 7,
     "metadata": {},
     "output_type": "execute_result"
    }
   ],
   "source": [
    "data.head()"
   ]
  },
  {
   "cell_type": "markdown",
   "metadata": {},
   "source": [
    "Firstly, we'll look at the top 10 highest rated movies."
   ]
  },
  {
   "cell_type": "code",
   "execution_count": 8,
   "metadata": {},
   "outputs": [
    {
     "name": "stdout",
     "output_type": "stream",
     "text": [
      "The number of movies with a rating of 10: 79\n"
     ]
    },
    {
     "data": {
      "text/html": [
       "<div>\n",
       "<style scoped>\n",
       "    .dataframe tbody tr th:only-of-type {\n",
       "        vertical-align: middle;\n",
       "    }\n",
       "\n",
       "    .dataframe tbody tr th {\n",
       "        vertical-align: top;\n",
       "    }\n",
       "\n",
       "    .dataframe thead th {\n",
       "        text-align: right;\n",
       "    }\n",
       "</style>\n",
       "<table border=\"1\" class=\"dataframe\">\n",
       "  <thead>\n",
       "    <tr style=\"text-align: right;\">\n",
       "      <th></th>\n",
       "      <th>original_title</th>\n",
       "      <th>vote_average</th>\n",
       "    </tr>\n",
       "  </thead>\n",
       "  <tbody>\n",
       "    <tr>\n",
       "      <th>18376</th>\n",
       "      <td>Tall Story</td>\n",
       "      <td>10.0</td>\n",
       "    </tr>\n",
       "    <tr>\n",
       "      <th>643</th>\n",
       "      <td>Carmen Miranda: Bananas Is My Business</td>\n",
       "      <td>10.0</td>\n",
       "    </tr>\n",
       "    <tr>\n",
       "      <th>16946</th>\n",
       "      <td>Criminal Justice</td>\n",
       "      <td>10.0</td>\n",
       "    </tr>\n",
       "    <tr>\n",
       "      <th>9637</th>\n",
       "      <td>Joe Cocker - Mad Dogs &amp; Englishmen</td>\n",
       "      <td>10.0</td>\n",
       "    </tr>\n",
       "    <tr>\n",
       "      <th>16940</th>\n",
       "      <td>Growing Pains</td>\n",
       "      <td>10.0</td>\n",
       "    </tr>\n",
       "    <tr>\n",
       "      <th>23820</th>\n",
       "      <td>Mariposa</td>\n",
       "      <td>10.0</td>\n",
       "    </tr>\n",
       "    <tr>\n",
       "      <th>21018</th>\n",
       "      <td>Vessel of Wrath</td>\n",
       "      <td>10.0</td>\n",
       "    </tr>\n",
       "    <tr>\n",
       "      <th>9886</th>\n",
       "      <td>Something in the Wind</td>\n",
       "      <td>10.0</td>\n",
       "    </tr>\n",
       "    <tr>\n",
       "      <th>19811</th>\n",
       "      <td>George Lopez: America's Mexican</td>\n",
       "      <td>10.0</td>\n",
       "    </tr>\n",
       "    <tr>\n",
       "      <th>22038</th>\n",
       "      <td>Crooks and Coronets</td>\n",
       "      <td>10.0</td>\n",
       "    </tr>\n",
       "  </tbody>\n",
       "</table>\n",
       "</div>"
      ],
      "text/plain": [
       "                               original_title  vote_average\n",
       "18376                              Tall Story          10.0\n",
       "643    Carmen Miranda: Bananas Is My Business          10.0\n",
       "16946                        Criminal Justice          10.0\n",
       "9637       Joe Cocker - Mad Dogs & Englishmen          10.0\n",
       "16940                           Growing Pains          10.0\n",
       "23820                                Mariposa          10.0\n",
       "21018                         Vessel of Wrath          10.0\n",
       "9886                    Something in the Wind          10.0\n",
       "19811         George Lopez: America's Mexican          10.0\n",
       "22038                     Crooks and Coronets          10.0"
      ]
     },
     "execution_count": 8,
     "metadata": {},
     "output_type": "execute_result"
    }
   ],
   "source": [
    "print(f'The number of movies with a rating of 10: {len(data[data.vote_average == 10])}')\n",
    "data.sort_values(by=['vote_average'], ascending=False).head(10)[['original_title', 'vote_average']]"
   ]
  },
  {
   "cell_type": "markdown",
   "metadata": {},
   "source": [
    "Next, we will see the **frequency** histogram of the top 25 original languages of movies."
   ]
  },
  {
   "cell_type": "code",
   "execution_count": 9,
   "metadata": {},
   "outputs": [
    {
     "data": {
      "image/png": "[encoded data removed]",
      "text/plain": [
       "<Figure size 864x360 with 1 Axes>"
      ]
     },
     "metadata": {
      "needs_background": "light"
     },
     "output_type": "display_data"
    }
   ],
   "source": [
    "language_freq = data['original_language'].value_counts()[:25]\n",
    "language_freq.plot(kind='bar', figsize=(12, 5), rot=45, xlabel='Original language', ylabel='Number of movies', title='Original language frequency histogram')\n",
    "plt.show()"
   ]
  },
  {
   "cell_type": "markdown",
   "metadata": {},
   "source": [
    "Next up, runtime **frequency** histogram."
   ]
  },
  {
   "cell_type": "code",
   "execution_count": 10,
   "metadata": {},
   "outputs": [
    {
     "data": {
      "image/png": "[encoded data removed]",
      "text/plain": [
       "<Figure size 432x288 with 1 Axes>"
      ]
     },
     "metadata": {
      "needs_background": "light"
     },
     "output_type": "display_data"
    }
   ],
   "source": [
    "data['runtime'].hist(bins=100, range=[0, 300])\n",
    "plt.title('Runtime frequency histogram')\n",
    "plt.xlabel('Runtime')\n",
    "plt.ylabel('Number of movies')\n",
    "\n",
    "plt.show()"
   ]
  },
  {
   "cell_type": "markdown",
   "metadata": {},
   "source": [
    "The vote average (rating) **frequency** histogram."
   ]
  },
  {
   "cell_type": "code",
   "execution_count": 11,
   "metadata": {},
   "outputs": [
    {
     "data": {
      "image/png": "[encoded data removed]",
      "text/plain": [
       "<Figure size 432x288 with 1 Axes>"
      ]
     },
     "metadata": {
      "needs_background": "light"
     },
     "output_type": "display_data"
    }
   ],
   "source": [
    "data['vote_average'].hist(bins=10, range=[0, 10])\n",
    "plt.title('Vote average frequency histogram')\n",
    "plt.xlabel('Vote average')\n",
    "plt.ylabel('Number of movies')\n",
    "\n",
    "plt.savefig('rating_freq.svg')\n",
    "plt.show()"
   ]
  },
  {
   "cell_type": "markdown",
   "metadata": {},
   "source": [
    "Now, let's see the **relative frequency** histogram of genres."
   ]
  },
  {
   "cell_type": "code",
   "execution_count": 12,
   "metadata": {},
   "outputs": [
    {
     "data": {
      "image/png": "[encoded data removed]",
      "text/plain": [
       "<Figure size 864x360 with 1 Axes>"
      ]
     },
     "metadata": {
      "needs_background": "light"
     },
     "output_type": "display_data"
    }
   ],
   "source": [
    "genres_dict = dict(sorted(genres_dict.items(), key=lambda x: x[1], reverse=True))\n",
    "total_number = 0\n",
    "for freq in genres_dict.values():\n",
    "    total_number += freq\n",
    "\n",
    "plt.figure(figsize=(12, 5))\n",
    "plt.bar(range(len(genres_dict)), [freq / total_number for freq in genres_dict.values()], align='center')\n",
    "plt.xticks(range(len(genres_dict)), list(genres_dict.keys()), rotation=45)\n",
    "plt.ylabel('Relative frequency of genres')\n",
    "plt.title('Relative frequency histogram of genres')\n",
    "\n",
    "plt.show()"
   ]
  },
  {
   "cell_type": "markdown",
   "metadata": {},
   "source": [
    "The **relative frequency** histogram of the top 25 production companies."
   ]
  },
  {
   "cell_type": "code",
   "execution_count": 13,
   "metadata": {},
   "outputs": [
    {
     "data": {
      "image/png": "[encoded data removed]",
      "text/plain": [
       "<Figure size 720x504 with 1 Axes>"
      ]
     },
     "metadata": {
      "needs_background": "light"
     },
     "output_type": "display_data"
    }
   ],
   "source": [
    "companies_dict = dict(sorted(companies_dict.items(), key=lambda x: x[1], reverse=True)[:25])\n",
    "total_number = 0\n",
    "for freq in companies_dict.values():\n",
    "    total_number += freq\n",
    "\n",
    "plt.figure(figsize=(10, 7))\n",
    "plt.barh(list(companies_dict.keys()), [freq / total_number for freq in companies_dict.values()], align='center', orientation='horizontal')\n",
    "plt.gca().invert_yaxis()\n",
    "plt.xlabel('Relative frequency of production companies')\n",
    "plt.title('Production companies relative frequency histogram')\n",
    "\n",
    "plt.show()"
   ]
  },
  {
   "cell_type": "markdown",
   "metadata": {},
   "source": [
    "The **relative frequency** histogram of the top 25 production countries."
   ]
  },
  {
   "cell_type": "code",
   "execution_count": 14,
   "metadata": {},
   "outputs": [
    {
     "data": {
      "image/png": "[encoded data removed]",
      "text/plain": [
       "<Figure size 720x504 with 1 Axes>"
      ]
     },
     "metadata": {
      "needs_background": "light"
     },
     "output_type": "display_data"
    }
   ],
   "source": [
    "countries_dict = dict(sorted(countries_dict.items(), key=lambda x: x[1], reverse=True))\n",
    "total_number = 0\n",
    "for freq in list(countries_dict.values())[:25]:\n",
    "    total_number += freq\n",
    "\n",
    "plt.figure(figsize=(10, 7))\n",
    "plt.barh(list(countries_dict.keys())[:25], [freq / total_number for freq in list(countries_dict.values())[:25]], align='center')\n",
    "plt.gca().invert_yaxis()\n",
    "plt.xlabel('Relative frequency of production countries')\n",
    "plt.title('Production countries relative frequency histogram')\n",
    "\n",
    "plt.show()"
   ]
  },
  {
   "cell_type": "markdown",
   "metadata": {},
   "source": [
    "The top 15 years with the highest mean revenue."
   ]
  },
  {
   "cell_type": "code",
   "execution_count": 15,
   "metadata": {},
   "outputs": [
    {
     "data": {
      "text/plain": [
       "<AxesSubplot:title={'center':'Top 15 mean yearly revenue'}, xlabel='Release year', ylabel='Yearly mean revenue (mil)'>"
      ]
     },
     "execution_count": 15,
     "metadata": {},
     "output_type": "execute_result"
    },
    {
     "data": {
      "image/png": "[encoded data removed]",
      "text/plain": [
       "<Figure size 720x360 with 1 Axes>"
      ]
     },
     "metadata": {
      "needs_background": "light"
     },
     "output_type": "display_data"
    }
   ],
   "source": [
    "data['release_date'] = data['release_date'].apply(lambda date: int(str(date)[:4]))\n",
    "\n",
    "yearly_revenues = data.groupby('release_date')['revenue'].mean().sort_values(ascending=False)[:15]\n",
    "yearly_revenues = yearly_revenues.apply(lambda x: round(x / 1_000_000, 2))\n",
    "\n",
    "yearly_revenues.plot(kind='bar', figsize=(10, 5), rot=45, title='Top 15 mean yearly revenue', xlabel='Release year', ylabel='Yearly mean revenue (mil)')"
   ]
  },
  {
   "cell_type": "code",
   "execution_count": 16,
   "metadata": {},
   "outputs": [
    {
     "name": "stdout",
     "output_type": "stream",
     "text": [
      "Oldest movie - 1878\n",
      "Newest movie - 2017\n"
     ]
    }
   ],
   "source": [
    "print(f'Oldest movie - {data[\"release_date\"].min()}')\n",
    "print(f'Newest movie - {data[\"release_date\"].max()}')"
   ]
  },
  {
   "cell_type": "markdown",
   "metadata": {},
   "source": [
    "## Starting with the model\n",
    "## Preparing data\n",
    "\n",
    "We will drop **'original_title'**, **'production_companies'**, **'release_date'** and **'revenue'**, as these are not going to be used in the model."
   ]
  },
  {
   "cell_type": "code",
   "execution_count": 17,
   "metadata": {},
   "outputs": [
    {
     "data": {
      "text/html": [
       "<div>\n",
       "<style scoped>\n",
       "    .dataframe tbody tr th:only-of-type {\n",
       "        vertical-align: middle;\n",
       "    }\n",
       "\n",
       "    .dataframe tbody tr th {\n",
       "        vertical-align: top;\n",
       "    }\n",
       "\n",
       "    .dataframe thead th {\n",
       "        text-align: right;\n",
       "    }\n",
       "</style>\n",
       "<table border=\"1\" class=\"dataframe\">\n",
       "  <thead>\n",
       "    <tr style=\"text-align: right;\">\n",
       "      <th></th>\n",
       "      <th>genres</th>\n",
       "      <th>original_language</th>\n",
       "      <th>original_title</th>\n",
       "      <th>production_companies</th>\n",
       "      <th>production_countries</th>\n",
       "      <th>release_date</th>\n",
       "      <th>revenue</th>\n",
       "      <th>runtime</th>\n",
       "      <th>vote_average</th>\n",
       "    </tr>\n",
       "  </thead>\n",
       "  <tbody>\n",
       "    <tr>\n",
       "      <th>0</th>\n",
       "      <td>[Animation, Comedy, Family]</td>\n",
       "      <td>en</td>\n",
       "      <td>Toy Story</td>\n",
       "      <td>[Pixar Animation Studios]</td>\n",
       "      <td>[United States of America]</td>\n",
       "      <td>1995</td>\n",
       "      <td>373554033</td>\n",
       "      <td>81.0</td>\n",
       "      <td>7.7</td>\n",
       "    </tr>\n",
       "    <tr>\n",
       "      <th>1</th>\n",
       "      <td>[Adventure, Fantasy, Family]</td>\n",
       "      <td>en</td>\n",
       "      <td>Jumanji</td>\n",
       "      <td>[TriStar Pictures, Teitler Film, Interscope Co...</td>\n",
       "      <td>[United States of America]</td>\n",
       "      <td>1995</td>\n",
       "      <td>262797249</td>\n",
       "      <td>104.0</td>\n",
       "      <td>6.9</td>\n",
       "    </tr>\n",
       "    <tr>\n",
       "      <th>2</th>\n",
       "      <td>[Romance, Comedy]</td>\n",
       "      <td>en</td>\n",
       "      <td>Grumpier Old Men</td>\n",
       "      <td>[Warner Bros., Lancaster Gate]</td>\n",
       "      <td>[United States of America]</td>\n",
       "      <td>1995</td>\n",
       "      <td>0</td>\n",
       "      <td>101.0</td>\n",
       "      <td>6.5</td>\n",
       "    </tr>\n",
       "    <tr>\n",
       "      <th>3</th>\n",
       "      <td>[Comedy, Drama, Romance]</td>\n",
       "      <td>en</td>\n",
       "      <td>Waiting to Exhale</td>\n",
       "      <td>[Twentieth Century Fox Film Corporation]</td>\n",
       "      <td>[United States of America]</td>\n",
       "      <td>1995</td>\n",
       "      <td>81452156</td>\n",
       "      <td>127.0</td>\n",
       "      <td>6.1</td>\n",
       "    </tr>\n",
       "    <tr>\n",
       "      <th>4</th>\n",
       "      <td>[Comedy]</td>\n",
       "      <td>en</td>\n",
       "      <td>Father of the Bride Part II</td>\n",
       "      <td>[Sandollar Productions, Touchstone Pictures]</td>\n",
       "      <td>[United States of America]</td>\n",
       "      <td>1995</td>\n",
       "      <td>76578911</td>\n",
       "      <td>106.0</td>\n",
       "      <td>5.7</td>\n",
       "    </tr>\n",
       "  </tbody>\n",
       "</table>\n",
       "</div>"
      ],
      "text/plain": [
       "                         genres original_language  \\\n",
       "0   [Animation, Comedy, Family]                en   \n",
       "1  [Adventure, Fantasy, Family]                en   \n",
       "2             [Romance, Comedy]                en   \n",
       "3      [Comedy, Drama, Romance]                en   \n",
       "4                      [Comedy]                en   \n",
       "\n",
       "                original_title  \\\n",
       "0                    Toy Story   \n",
       "1                      Jumanji   \n",
       "2             Grumpier Old Men   \n",
       "3            Waiting to Exhale   \n",
       "4  Father of the Bride Part II   \n",
       "\n",
       "                                production_companies  \\\n",
       "0                          [Pixar Animation Studios]   \n",
       "1  [TriStar Pictures, Teitler Film, Interscope Co...   \n",
       "2                     [Warner Bros., Lancaster Gate]   \n",
       "3           [Twentieth Century Fox Film Corporation]   \n",
       "4       [Sandollar Productions, Touchstone Pictures]   \n",
       "\n",
       "         production_countries  release_date    revenue  runtime  vote_average  \n",
       "0  [United States of America]          1995  373554033     81.0           7.7  \n",
       "1  [United States of America]          1995  262797249    104.0           6.9  \n",
       "2  [United States of America]          1995          0    101.0           6.5  \n",
       "3  [United States of America]          1995   81452156    127.0           6.1  \n",
       "4  [United States of America]          1995   76578911    106.0           5.7  "
      ]
     },
     "execution_count": 17,
     "metadata": {},
     "output_type": "execute_result"
    }
   ],
   "source": [
    "data.head()"
   ]
  },
  {
   "cell_type": "code",
   "execution_count": 18,
   "metadata": {},
   "outputs": [
    {
     "data": {
      "text/html": [
       "<div>\n",
       "<style scoped>\n",
       "    .dataframe tbody tr th:only-of-type {\n",
       "        vertical-align: middle;\n",
       "    }\n",
       "\n",
       "    .dataframe tbody tr th {\n",
       "        vertical-align: top;\n",
       "    }\n",
       "\n",
       "    .dataframe thead th {\n",
       "        text-align: right;\n",
       "    }\n",
       "</style>\n",
       "<table border=\"1\" class=\"dataframe\">\n",
       "  <thead>\n",
       "    <tr style=\"text-align: right;\">\n",
       "      <th></th>\n",
       "      <th>genres</th>\n",
       "      <th>original_language</th>\n",
       "      <th>production_countries</th>\n",
       "      <th>runtime</th>\n",
       "      <th>vote_average</th>\n",
       "    </tr>\n",
       "  </thead>\n",
       "  <tbody>\n",
       "    <tr>\n",
       "      <th>0</th>\n",
       "      <td>[Animation, Comedy, Family]</td>\n",
       "      <td>en</td>\n",
       "      <td>[United States of America]</td>\n",
       "      <td>81.0</td>\n",
       "      <td>7.7</td>\n",
       "    </tr>\n",
       "    <tr>\n",
       "      <th>1</th>\n",
       "      <td>[Adventure, Fantasy, Family]</td>\n",
       "      <td>en</td>\n",
       "      <td>[United States of America]</td>\n",
       "      <td>104.0</td>\n",
       "      <td>6.9</td>\n",
       "    </tr>\n",
       "    <tr>\n",
       "      <th>2</th>\n",
       "      <td>[Romance, Comedy]</td>\n",
       "      <td>en</td>\n",
       "      <td>[United States of America]</td>\n",
       "      <td>101.0</td>\n",
       "      <td>6.5</td>\n",
       "    </tr>\n",
       "    <tr>\n",
       "      <th>3</th>\n",
       "      <td>[Comedy, Drama, Romance]</td>\n",
       "      <td>en</td>\n",
       "      <td>[United States of America]</td>\n",
       "      <td>127.0</td>\n",
       "      <td>6.1</td>\n",
       "    </tr>\n",
       "    <tr>\n",
       "      <th>4</th>\n",
       "      <td>[Comedy]</td>\n",
       "      <td>en</td>\n",
       "      <td>[United States of America]</td>\n",
       "      <td>106.0</td>\n",
       "      <td>5.7</td>\n",
       "    </tr>\n",
       "  </tbody>\n",
       "</table>\n",
       "</div>"
      ],
      "text/plain": [
       "                         genres original_language        production_countries  \\\n",
       "0   [Animation, Comedy, Family]                en  [United States of America]   \n",
       "1  [Adventure, Fantasy, Family]                en  [United States of America]   \n",
       "2             [Romance, Comedy]                en  [United States of America]   \n",
       "3      [Comedy, Drama, Romance]                en  [United States of America]   \n",
       "4                      [Comedy]                en  [United States of America]   \n",
       "\n",
       "   runtime  vote_average  \n",
       "0     81.0           7.7  \n",
       "1    104.0           6.9  \n",
       "2    101.0           6.5  \n",
       "3    127.0           6.1  \n",
       "4    106.0           5.7  "
      ]
     },
     "execution_count": 18,
     "metadata": {},
     "output_type": "execute_result"
    }
   ],
   "source": [
    "data = data.drop(columns=['original_title', 'production_companies', 'release_date', 'revenue'])\n",
    "\n",
    "data.head()"
   ]
  },
  {
   "cell_type": "markdown",
   "metadata": {},
   "source": [
    "Then we will use `pd.get_dummies()` to one-hot-encode **'original_language'** column."
   ]
  },
  {
   "cell_type": "code",
   "execution_count": 19,
   "metadata": {},
   "outputs": [
    {
     "data": {
      "text/html": [
       "<div>\n",
       "<style scoped>\n",
       "    .dataframe tbody tr th:only-of-type {\n",
       "        vertical-align: middle;\n",
       "    }\n",
       "\n",
       "    .dataframe tbody tr th {\n",
       "        vertical-align: top;\n",
       "    }\n",
       "\n",
       "    .dataframe thead th {\n",
       "        text-align: right;\n",
       "    }\n",
       "</style>\n",
       "<table border=\"1\" class=\"dataframe\">\n",
       "  <thead>\n",
       "    <tr style=\"text-align: right;\">\n",
       "      <th></th>\n",
       "      <th>genres</th>\n",
       "      <th>production_countries</th>\n",
       "      <th>runtime</th>\n",
       "      <th>vote_average</th>\n",
       "      <th>original_language_ab</th>\n",
       "      <th>original_language_af</th>\n",
       "      <th>original_language_am</th>\n",
       "      <th>original_language_ar</th>\n",
       "      <th>original_language_ay</th>\n",
       "      <th>original_language_bg</th>\n",
       "      <th>...</th>\n",
       "      <th>original_language_th</th>\n",
       "      <th>original_language_tl</th>\n",
       "      <th>original_language_tr</th>\n",
       "      <th>original_language_uk</th>\n",
       "      <th>original_language_ur</th>\n",
       "      <th>original_language_vi</th>\n",
       "      <th>original_language_wo</th>\n",
       "      <th>original_language_xx</th>\n",
       "      <th>original_language_zh</th>\n",
       "      <th>original_language_zu</th>\n",
       "    </tr>\n",
       "  </thead>\n",
       "  <tbody>\n",
       "    <tr>\n",
       "      <th>0</th>\n",
       "      <td>[Animation, Comedy, Family]</td>\n",
       "      <td>[United States of America]</td>\n",
       "      <td>81.0</td>\n",
       "      <td>7.7</td>\n",
       "      <td>0</td>\n",
       "      <td>0</td>\n",
       "      <td>0</td>\n",
       "      <td>0</td>\n",
       "      <td>0</td>\n",
       "      <td>0</td>\n",
       "      <td>...</td>\n",
       "      <td>0</td>\n",
       "      <td>0</td>\n",
       "      <td>0</td>\n",
       "      <td>0</td>\n",
       "      <td>0</td>\n",
       "      <td>0</td>\n",
       "      <td>0</td>\n",
       "      <td>0</td>\n",
       "      <td>0</td>\n",
       "      <td>0</td>\n",
       "    </tr>\n",
       "    <tr>\n",
       "      <th>1</th>\n",
       "      <td>[Adventure, Fantasy, Family]</td>\n",
       "      <td>[United States of America]</td>\n",
       "      <td>104.0</td>\n",
       "      <td>6.9</td>\n",
       "      <td>0</td>\n",
       "      <td>0</td>\n",
       "      <td>0</td>\n",
       "      <td>0</td>\n",
       "      <td>0</td>\n",
       "      <td>0</td>\n",
       "      <td>...</td>\n",
       "      <td>0</td>\n",
       "      <td>0</td>\n",
       "      <td>0</td>\n",
       "      <td>0</td>\n",
       "      <td>0</td>\n",
       "      <td>0</td>\n",
       "      <td>0</td>\n",
       "      <td>0</td>\n",
       "      <td>0</td>\n",
       "      <td>0</td>\n",
       "    </tr>\n",
       "    <tr>\n",
       "      <th>2</th>\n",
       "      <td>[Romance, Comedy]</td>\n",
       "      <td>[United States of America]</td>\n",
       "      <td>101.0</td>\n",
       "      <td>6.5</td>\n",
       "      <td>0</td>\n",
       "      <td>0</td>\n",
       "      <td>0</td>\n",
       "      <td>0</td>\n",
       "      <td>0</td>\n",
       "      <td>0</td>\n",
       "      <td>...</td>\n",
       "      <td>0</td>\n",
       "      <td>0</td>\n",
       "      <td>0</td>\n",
       "      <td>0</td>\n",
       "      <td>0</td>\n",
       "      <td>0</td>\n",
       "      <td>0</td>\n",
       "      <td>0</td>\n",
       "      <td>0</td>\n",
       "      <td>0</td>\n",
       "    </tr>\n",
       "    <tr>\n",
       "      <th>3</th>\n",
       "      <td>[Comedy, Drama, Romance]</td>\n",
       "      <td>[United States of America]</td>\n",
       "      <td>127.0</td>\n",
       "      <td>6.1</td>\n",
       "      <td>0</td>\n",
       "      <td>0</td>\n",
       "      <td>0</td>\n",
       "      <td>0</td>\n",
       "      <td>0</td>\n",
       "      <td>0</td>\n",
       "      <td>...</td>\n",
       "      <td>0</td>\n",
       "      <td>0</td>\n",
       "      <td>0</td>\n",
       "      <td>0</td>\n",
       "      <td>0</td>\n",
       "      <td>0</td>\n",
       "      <td>0</td>\n",
       "      <td>0</td>\n",
       "      <td>0</td>\n",
       "      <td>0</td>\n",
       "    </tr>\n",
       "    <tr>\n",
       "      <th>4</th>\n",
       "      <td>[Comedy]</td>\n",
       "      <td>[United States of America]</td>\n",
       "      <td>106.0</td>\n",
       "      <td>5.7</td>\n",
       "      <td>0</td>\n",
       "      <td>0</td>\n",
       "      <td>0</td>\n",
       "      <td>0</td>\n",
       "      <td>0</td>\n",
       "      <td>0</td>\n",
       "      <td>...</td>\n",
       "      <td>0</td>\n",
       "      <td>0</td>\n",
       "      <td>0</td>\n",
       "      <td>0</td>\n",
       "      <td>0</td>\n",
       "      <td>0</td>\n",
       "      <td>0</td>\n",
       "      <td>0</td>\n",
       "      <td>0</td>\n",
       "      <td>0</td>\n",
       "    </tr>\n",
       "  </tbody>\n",
       "</table>\n",
       "<p>5 rows × 87 columns</p>\n",
       "</div>"
      ],
      "text/plain": [
       "                         genres        production_countries  runtime  \\\n",
       "0   [Animation, Comedy, Family]  [United States of America]     81.0   \n",
       "1  [Adventure, Fantasy, Family]  [United States of America]    104.0   \n",
       "2             [Romance, Comedy]  [United States of America]    101.0   \n",
       "3      [Comedy, Drama, Romance]  [United States of America]    127.0   \n",
       "4                      [Comedy]  [United States of America]    106.0   \n",
       "\n",
       "   vote_average  original_language_ab  original_language_af  \\\n",
       "0           7.7                     0                     0   \n",
       "1           6.9                     0                     0   \n",
       "2           6.5                     0                     0   \n",
       "3           6.1                     0                     0   \n",
       "4           5.7                     0                     0   \n",
       "\n",
       "   original_language_am  original_language_ar  original_language_ay  \\\n",
       "0                     0                     0                     0   \n",
       "1                     0                     0                     0   \n",
       "2                     0                     0                     0   \n",
       "3                     0                     0                     0   \n",
       "4                     0                     0                     0   \n",
       "\n",
       "   original_language_bg  ...  original_language_th  original_language_tl  \\\n",
       "0                     0  ...                     0                     0   \n",
       "1                     0  ...                     0                     0   \n",
       "2                     0  ...                     0                     0   \n",
       "3                     0  ...                     0                     0   \n",
       "4                     0  ...                     0                     0   \n",
       "\n",
       "   original_language_tr  original_language_uk  original_language_ur  \\\n",
       "0                     0                     0                     0   \n",
       "1                     0                     0                     0   \n",
       "2                     0                     0                     0   \n",
       "3                     0                     0                     0   \n",
       "4                     0                     0                     0   \n",
       "\n",
       "   original_language_vi  original_language_wo  original_language_xx  \\\n",
       "0                     0                     0                     0   \n",
       "1                     0                     0                     0   \n",
       "2                     0                     0                     0   \n",
       "3                     0                     0                     0   \n",
       "4                     0                     0                     0   \n",
       "\n",
       "   original_language_zh  original_language_zu  \n",
       "0                     0                     0  \n",
       "1                     0                     0  \n",
       "2                     0                     0  \n",
       "3                     0                     0  \n",
       "4                     0                     0  \n",
       "\n",
       "[5 rows x 87 columns]"
      ]
     },
     "execution_count": 19,
     "metadata": {},
     "output_type": "execute_result"
    }
   ],
   "source": [
    "data = pd.get_dummies(data, columns=['original_language'])\n",
    "data.head()"
   ]
  },
  {
   "cell_type": "markdown",
   "metadata": {},
   "source": [
    "Next, we will be using `MultiLabelBinarizer()` from sklearn to one-hot-encode **'genres'** and **'production_countries'** columns."
   ]
  },
  {
   "cell_type": "code",
   "execution_count": 20,
   "metadata": {},
   "outputs": [],
   "source": [
    "genres_columns = [genre for genre in genres_dict.keys()]\n",
    "\n",
    "countries_columns = [country for country in countries_dict.keys()]"
   ]
  },
  {
   "cell_type": "code",
   "execution_count": 21,
   "metadata": {},
   "outputs": [],
   "source": [
    "mlb = MultiLabelBinarizer()\n",
    "\n",
    "genres_list = pd.DataFrame(mlb.fit_transform(data['genres']), columns=genres_columns)\n",
    "\n",
    "countries_list = pd.DataFrame(mlb.fit_transform(data['production_countries']), columns=countries_columns)\n",
    "\n",
    "data = pd.concat([data.drop(columns=['genres', 'production_countries']), genres_list, countries_list], axis=1)"
   ]
  },
  {
   "cell_type": "markdown",
   "metadata": {},
   "source": [
    "## Splitting the data\n",
    "\n",
    "Splitting the data for training and testing. For this we will be using `train_test_split()` from sklearn."
   ]
  },
  {
   "cell_type": "code",
   "execution_count": 22,
   "metadata": {},
   "outputs": [],
   "source": [
    "X = data.drop(columns=['vote_average'])\n",
    "y = data['vote_average']"
   ]
  },
  {
   "cell_type": "code",
   "execution_count": 23,
   "metadata": {},
   "outputs": [
    {
     "name": "stdout",
     "output_type": "stream",
     "text": [
      "Features data shape:\n",
      "(23295, 255)\n",
      "Values data shape:\n",
      "(23295,)\n"
     ]
    }
   ],
   "source": [
    "X_train, X_test, y_train, y_test = train_test_split(X, y, train_size=0.75, random_state=0)\n",
    "\n",
    "print('Features data shape:')\n",
    "print(X_train.shape)\n",
    "print('Values data shape:')\n",
    "print(y_train.shape)"
   ]
  },
  {
   "cell_type": "markdown",
   "metadata": {},
   "source": [
    "We will be trying to train the model on two different training data. The first one will be the full training dataset and the second one will be a more balanced one, where movie ratings (vote averages) try to be in equal number (same number of 2's as there are 4's for example)."
   ]
  },
  {
   "cell_type": "code",
   "execution_count": 24,
   "metadata": {},
   "outputs": [
    {
     "name": "stdout",
     "output_type": "stream",
     "text": [
      "Length of movies with 0-4: 3389\n",
      "Length of movies with 5-6: 14811\n",
      "Length of movies with 7-10: 5095\n"
     ]
    }
   ],
   "source": [
    "train_new = pd.concat([X_train, y_train], axis=1)\n",
    "\n",
    "train_0_4 = train_new[train_new.vote_average < 5]\n",
    "train_5_6 = train_new[(train_new.vote_average >= 5) & (train_new.vote_average < 7)]\n",
    "train_7_10 = train_new[train_new.vote_average >= 7]\n",
    "\n",
    "print(f'Length of movies with 0-4: {len(train_0_4)}')\n",
    "print(f'Length of movies with 5-6: {len(train_5_6)}')\n",
    "print(f'Length of movies with 7-10: {len(train_7_10)}')"
   ]
  },
  {
   "cell_type": "code",
   "execution_count": 25,
   "metadata": {},
   "outputs": [],
   "source": [
    "train_5_6 = train_5_6.sample(n=3389, random_state=0)\n",
    "train_7_10 = train_7_10.sample(n=3389, random_state=0)\n",
    "\n",
    "train_new = pd.concat([train_0_4, train_5_6, train_7_10]).sort_index()\n",
    "\n",
    "X_train_new = train_new.drop(columns=['vote_average'])\n",
    "y_train_new = train_new['vote_average']"
   ]
  },
  {
   "cell_type": "code",
   "execution_count": 26,
   "metadata": {},
   "outputs": [
    {
     "name": "stdout",
     "output_type": "stream",
     "text": [
      "Length of original training data: 23295\n",
      "Length of more balanced training data: 10167\n"
     ]
    }
   ],
   "source": [
    "print(f'Length of original training data: {len(X_train)}')\n",
    "print(f'Length of more balanced training data: {len(X_train_new)}')"
   ]
  },
  {
   "cell_type": "markdown",
   "metadata": {},
   "source": [
    "Defining our way of determining the accuracy of the models.\n",
    "For this we will be using root mean squared error."
   ]
  },
  {
   "cell_type": "code",
   "execution_count": 27,
   "metadata": {},
   "outputs": [],
   "source": [
    "def MSE(y_target, y_pred):\n",
    "    sum = 0\n",
    "    for i in range(len(y_target)):\n",
    "        sum += (y_target[i] - y_pred[i]) ** 2\n",
    "    return sum / len(y_target)\n",
    "\n",
    "def RMSE(y_target, y_pred):\n",
    "    return math.sqrt(MSE(y_target, y_pred))"
   ]
  },
  {
   "cell_type": "markdown",
   "metadata": {},
   "source": [
    "## Training the models\n",
    "\n",
    "We will be trying Linear Regression, Ridge Regression and Lasso Regression for this dataset."
   ]
  },
  {
   "cell_type": "code",
   "execution_count": 28,
   "metadata": {},
   "outputs": [],
   "source": [
    "linear_1 = LinearRegression()\n",
    "linear_2 = LinearRegression()\n",
    "\n",
    "ridge_1 = Ridge()\n",
    "ridge_2 = Ridge()\n",
    "\n",
    "lasso_1 = Lasso()\n",
    "lasso_2 = Lasso()"
   ]
  },
  {
   "cell_type": "markdown",
   "metadata": {},
   "source": [
    "Fitting the models."
   ]
  },
  {
   "cell_type": "code",
   "execution_count": 29,
   "metadata": {},
   "outputs": [],
   "source": [
    "linear_1 = linear_1.fit(X_train, y_train)\n",
    "linear_2 = linear_2.fit(X_train_new, y_train_new)\n",
    "\n",
    "ridge_1 = ridge_1.fit(X_train, y_train)\n",
    "ridge_2 = ridge_2.fit(X_train_new, y_train_new)\n",
    "\n",
    "lasso_1 = lasso_1.fit(X_train, y_train)\n",
    "lasso_2 = lasso_2.fit(X_train_new, y_train_new)"
   ]
  },
  {
   "cell_type": "markdown",
   "metadata": {},
   "source": [
    "## Testing the models\n",
    "\n",
    "Having the new models predict on the testing data."
   ]
  },
  {
   "cell_type": "code",
   "execution_count": 30,
   "metadata": {},
   "outputs": [],
   "source": [
    "linear_1_pred = linear_1.predict(X_test)\n",
    "linear_2_pred = linear_2.predict(X_test)\n",
    "\n",
    "ridge_1_pred = ridge_1.predict(X_test)\n",
    "ridge_2_pred = ridge_2.predict(X_test)\n",
    "\n",
    "lasso_1_pred = lasso_1.predict(X_test)\n",
    "lasso_2_pred = lasso_2.predict(X_test)"
   ]
  },
  {
   "cell_type": "markdown",
   "metadata": {},
   "source": [
    "Finding the accuracy of our new models."
   ]
  },
  {
   "cell_type": "code",
   "execution_count": 31,
   "metadata": {},
   "outputs": [
    {
     "name": "stdout",
     "output_type": "stream",
     "text": [
      "RMSE for LR (unbalanced) - 595835615.7455771\n",
      "RMSE for LR (more balanced) - 1334085424.1480584\n",
      "\n",
      "RMSE for Ridge (unbalanced) - 1.0980506539834742\n",
      "RMSE for Ridge (more balanced) - 1.1404556517491133\n",
      "\n",
      "RMSE for Lasso (unbalanced) - 1.1765992323917753\n",
      "RMSE for Lasso (more balanced) - 1.1939695490226225\n",
      "\n"
     ]
    }
   ],
   "source": [
    "print(f'RMSE for LR (unbalanced) - {RMSE(y_test.to_numpy(), linear_1_pred)}')\n",
    "print(f'RMSE for LR (more balanced) - {RMSE(y_test.to_numpy(), linear_2_pred)}\\n')\n",
    "\n",
    "print(f'RMSE for Ridge (unbalanced) - {RMSE(y_test.to_numpy(), ridge_1_pred)}')\n",
    "print(f'RMSE for Ridge (more balanced) - {RMSE(y_test.to_numpy(), ridge_2_pred)}\\n')\n",
    "\n",
    "print(f'RMSE for Lasso (unbalanced) - {RMSE(y_test.to_numpy(), lasso_1_pred)}')\n",
    "print(f'RMSE for Lasso (more balanced) - {RMSE(y_test.to_numpy(), lasso_2_pred)}\\n')"
   ]
  },
  {
   "cell_type": "markdown",
   "metadata": {},
   "source": [
    "As we can see, Ridge Regression performed the best on our test set with a root mean squared error of about 1.09.\n",
    "\n",
    "Now, we'll take all of the root mean squared errors of our models and plot them to compare the results.\n",
    "We'll also include the tensorflow keras models from the second notebook file."
   ]
  },
  {
   "cell_type": "code",
   "execution_count": 32,
   "metadata": {},
   "outputs": [],
   "source": [
    "rmse = pd.DataFrame(data={'models':['Ridge (unbal)', 'Ridge (bal)', 'Lasso (unbal)', 'Lasso (bal)', 'Keras (unbal)', 'Keras (bal)'],\n",
    "                          'RMSE':[1.0980506539834742, 1.1404556517491133, 1.1765992323917753, 1.1939695490226225, 1.1034187304859397, 1.1703278564749433]})\n",
    "rmse.sort_values(by='RMSE', inplace=True, ignore_index=True)"
   ]
  },
  {
   "cell_type": "code",
   "execution_count": 33,
   "metadata": {},
   "outputs": [
    {
     "data": {
      "image/png": "[encoded data removed]",
      "text/plain": [
       "<Figure size 432x288 with 1 Axes>"
      ]
     },
     "metadata": {
      "needs_background": "light"
     },
     "output_type": "display_data"
    }
   ],
   "source": [
    "ax = rmse.plot(kind='bar', rot=45, title='RMSE of our models', xlabel='Models', ylabel='RMSE', ylim=[0.7, 1.3])\n",
    "ax.set_xticks(rmse.index)\n",
    "ax.set_xticklabels(rmse['models'])\n",
    "\n",
    "plt.savefig('model_rmse.svg', bbox_inches='tight')\n",
    "plt.show()"
   ]
  },
  {
   "cell_type": "markdown",
   "metadata": {},
   "source": [
    "As we can see, Ridge Regression was the best from our models, however all of the models came out pretty close, except for Linear Regression, that we decided not to include in our plot because it would've made our comparison between the other models impossible."
   ]
  }
 ],
 "metadata": {
  "kernelspec": {
   "display_name": "Python 3 (ipykernel)",
   "language": "python",
   "name": "python3"
  },
  "language_info": {
   "codemirror_mode": {
    "name": "ipython",
    "version": 3
   },
   "file_extension": ".py",
   "mimetype": "text/x-python",
   "name": "python",
   "nbconvert_exporter": "python",
   "pygments_lexer": "ipython3",
   "version": "3.9.12"
  }
 },
 "nbformat": 4,
 "nbformat_minor": 1
}
